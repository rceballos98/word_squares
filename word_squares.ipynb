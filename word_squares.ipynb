{
 "nbformat": 4,
 "nbformat_minor": 2,
 "metadata": {
  "language_info": {
   "name": "python",
   "codemirror_mode": {
    "name": "ipython",
    "version": 3
   },
   "version": "3.7.4-final"
  },
  "orig_nbformat": 2,
  "file_extension": ".py",
  "mimetype": "text/x-python",
  "name": "python",
  "npconvert_exporter": "python",
  "pygments_lexer": "ipython3",
  "version": 3,
  "kernelspec": {
   "name": "python3",
   "display_name": "Python 3"
  }
 },
 "cells": [
  {
   "cell_type": "code",
   "execution_count": 3,
   "metadata": {},
   "outputs": [],
   "source": [
    "import numpy as np\n",
    "import pandas as pd\n",
    "from pathlib import Path\n",
    "from collections import defaultdict\n",
    "import copy"
   ]
  },
  {
   "cell_type": "code",
   "execution_count": 4,
   "metadata": {},
   "outputs": [
    {
     "name": "stdout",
     "output_type": "stream",
     "text": "9999 | ['you', 'i', 'to', 'the', 'and', 'that', 'of', 'me', 'in', 'this']\n"
    }
   ],
   "source": [
    "dict_path = Path(Path.cwd(),'repos/word_squares/top10k.txt')\n",
    "words = Path(dict_path).open('r').read().split('\\n')\n",
    "words = [word.lower() for word in words]\n",
    "print(f'{len(words)} | {words[:10]}')"
   ]
  },
  {
   "cell_type": "code",
   "execution_count": 5,
   "metadata": {},
   "outputs": [],
   "source": [
    "def add_word_to_tree(tree, word):\n",
    "    if len(word) > 0:\n",
    "        try:\n",
    "            sub_tree = tree[word[0]]\n",
    "        except:\n",
    "            sub_tree = defaultdict(lambda: defaultdict())\n",
    "        tree[word[0]] = add_word_to_tree(sub_tree, word[1:])\n",
    "        return tree\n",
    "    else:\n",
    "        return defaultdict(lambda: defaultdict())\n"
   ]
  },
  {
   "cell_type": "code",
   "execution_count": 6,
   "metadata": {},
   "outputs": [],
   "source": [
    "char_tree = defaultdict(lambda: defaultdict())\n",
    "\n",
    "for word in words:\n",
    "    char_tree = add_word_to_tree(char_tree, word)\n"
   ]
  },
  {
   "cell_type": "code",
   "execution_count": 7,
   "metadata": {},
   "outputs": [
    {
     "data": {
      "text/plain": "defaultdict(None,\n            {'s': defaultdict(<function __main__.add_word_to_tree.<locals>.<lambda>()>,\n                         {}),\n             'n': defaultdict(<function __main__.add_word_to_tree.<locals>.<lambda>()>,\n                         {'k': defaultdict(None,\n                                      {'i': defaultdict(<function __main__.add_word_to_tree.<locals>.<lambda>()>,\n                                                   {'n': defaultdict(None,\n                                                                {'g': defaultdict(<function __main__.add_word_to_tree.<locals>.<lambda>()>,\n                                                                             {})})})}),\n                          'g': defaultdict(None,\n                                      {'y': defaultdict(<function __main__.add_word_to_tree.<locals>.<lambda>()>,\n                                                   {})}),\n                          'n': defaultdict(None,\n                                      {'e': defaultdict(<function __main__.add_word_to_tree.<locals>.<lambda>()>,\n                                                   {'r': defaultdict(<function __main__.add_word_to_tree.<locals>.<lambda>()>,\n                                                                {})})})}),\n             'r': defaultdict(<function __main__.add_word_to_tree.<locals>.<lambda>()>,\n                         {'t': defaultdict(None,\n                                      {'y': defaultdict(<function __main__.add_word_to_tree.<locals>.<lambda>()>,\n                                                   {}),\n                                       'e': defaultdict(<function __main__.add_word_to_tree.<locals>.<lambda>()>,\n                                                   {'e': defaultdict(None,\n                                                                {'n': defaultdict(<function __main__.add_word_to_tree.<locals>.<lambda>()>,\n                                                                             {})})})}),\n                          'd': defaultdict(<function __main__.add_word_to_tree.<locals>.<lambda>()>,\n                                      {}),\n                          's': defaultdict(None,\n                                      {'t': defaultdict(<function __main__.add_word_to_tree.<locals>.<lambda>()>,\n                                                   {})})}),\n             'e': defaultdict(<function __main__.add_word_to_tree.<locals>.<lambda>()>,\n                         {'f': defaultdict(<function __main__.add_word_to_tree.<locals>.<lambda>()>,\n                                      {}),\n                          'v': defaultdict(None,\n                                      {'e': defaultdict(<function __main__.add_word_to_tree.<locals>.<lambda>()>,\n                                                   {})})}),\n             'c': defaultdict(<function __main__.add_word_to_tree.<locals>.<lambda>()>,\n                         {'k': defaultdict(<function __main__.add_word_to_tree.<locals>.<lambda>()>,\n                                      {})}),\n             'g': defaultdict(<function __main__.add_word_to_tree.<locals>.<lambda>()>,\n                         {'h': defaultdict(<function __main__.add_word_to_tree.<locals>.<lambda>()>,\n                                      {})}),\n             'm': defaultdict(<function __main__.add_word_to_tree.<locals>.<lambda>()>,\n                         {'b': defaultdict(None,\n                                      {'l': defaultdict(<function __main__.add_word_to_tree.<locals>.<lambda>()>,\n                                                   {'e': defaultdict(<function __main__.add_word_to_tree.<locals>.<lambda>()>,\n                                                                {})})})})})"
     },
     "execution_count": 7,
     "metadata": {},
     "output_type": "execute_result"
    }
   ],
   "source": [
    "char_tree['t']['h']['i']"
   ]
  },
  {
   "cell_type": "markdown",
   "metadata": {},
   "source": [
    "# Make Word Squares"
   ]
  },
  {
   "cell_type": "code",
   "execution_count": 228,
   "metadata": {},
   "outputs": [],
   "source": [
    "def get_loc_from_index(i, n):\n",
    "    x = i % n\n",
    "    y = int(i / n)\n",
    "    return [x, y]\n",
    "\n",
    "def get_index_from_loc(loc, n):\n",
    "    x, y = loc\n",
    "    return y * n + x\n",
    "\n",
    "def get_possible_chars(sq, loc, char_tree):\n",
    "    x, y = loc\n",
    "    partial_word1 = sq[x, :y]\n",
    "    partial_word2 = sq[:x, y]\n",
    "\n",
    "    options1 = get_possible_chars_from_partial_word(partial_word1, char_tree)\n",
    "    options2 = get_possible_chars_from_partial_word(partial_word2, char_tree)\n",
    "    return  options1.intersection(options2)\n",
    "\n",
    "def get_possible_chars_from_partial_word(partial_word, char_tree):\n",
    "    t = copy.copy(char_tree)\n",
    "    for char in partial_word:\n",
    "        if char in t.keys():\n",
    "            t = t[char]\n",
    "        else:\n",
    "            t = {}\n",
    "    return set(t.keys())\n",
    "\n",
    "def get_char_tree(n):\n",
    "    char_tree = defaultdict(lambda: defaultdict())\n",
    "    for word in words:\n",
    "        if len(word) == n:\n",
    "            char_tree = add_word_to_tree(char_tree, word)\n",
    "    return char_tree\n",
    "\n",
    "\n",
    "class Square():\n",
    "    def __init__(self, sq):\n",
    "        self.sq = sq\n",
    "        self.symmetry_score = self.get_symmetry()\n",
    "    \n",
    "    def __eq__(self, other): \n",
    "        if np.all(self.sq == other.sq) or np.all(self.sq == other.sq.T): \n",
    "            return True\n",
    "        else: \n",
    "            return False\n",
    "    \n",
    "    def __ge__(self, other):\n",
    "        return (not __lt__(self, other) and not __eq__(self, other))\n",
    "    \n",
    "    def __lt__(self, other):\n",
    "        return np.mean(self.sq < other.sq) > 0.5\n",
    "    \n",
    "    def __hash__(self):\n",
    "        sq = self.sq if np.mean(self.sq > self.sq.T) > 0.5 else self.sq.T\n",
    "        return hash(sq.tostring())\n",
    "    \n",
    "    def __str__(self):\n",
    "        array_string = ''\n",
    "        for line in self.sq:\n",
    "            for char in line:\n",
    "                array_string += f'{char} '\n",
    "            array_string += f'\\n'\n",
    "        return array_string\n",
    "    \n",
    "    def get_symmetry(self):\n",
    "        return np.mean(self.sq == self.sq.T)\n",
    "\n",
    "\n",
    "def get_partial_squares(sq, i, char_tree):\n",
    "    sq = copy.copy(sq)\n",
    "    n = sq.shape[0]\n",
    "    loc = get_loc_from_index(i, n)\n",
    "    x, y = loc\n",
    "    possible_chars = get_possible_chars(sq, loc, char_tree)\n",
    "\n",
    "    sqs = []\n",
    "\n",
    "    if len(possible_chars) == 0:\n",
    "        return []\n",
    "\n",
    "    for char in possible_chars:\n",
    "        sq[x, y] = char\n",
    "\n",
    "        if i < n**2 - 1:\n",
    "            sqs.extend(get_partial_squares(sq, i + 1, char_tree))\n",
    "        else:\n",
    "            sqs.extend([Square(sq)])\n",
    "\n",
    "    return sqs\n",
    "\n",
    "def get_squares(n):\n",
    "\n",
    "    char_tree = get_char_tree(n)\n",
    "    \n",
    "    sq = np.chararray((n, n))\n",
    "    sq.fill('')\n",
    "    sq = sq.astype('<U1')\n",
    "\n",
    "    _start = time.time()\n",
    "\n",
    "    sqs = get_partial_squares(sq, 0, char_tree)\n",
    "\n",
    "    print(\"Took {1} seconds\".format(count, \n",
    "            (time.time() - _start)))\n",
    "\n",
    "    return sqs\n",
    "\n",
    "def get_unique_sqs(sqs):\n",
    "    return list(set(sqs))\n",
    "\n",
    "def print_sqs(sqs):\n",
    "    for sq in sqs:\n",
    "        print(sq)"
   ]
  },
  {
   "cell_type": "code",
   "execution_count": 231,
   "metadata": {},
   "outputs": [
    {
     "name": "stdout",
     "output_type": "stream",
     "text": "Took 43.79590630531311 seconds\n573\n"
    }
   ],
   "source": [
    "x = get_squares(5)\n",
    "unique_sqs = get_unique_sqs(x)\n",
    "unique_sqs.sort(key=lambda x: x.symmetry_score, reverse=False)\n",
    "print(len(unique_sqs))"
   ]
  },
  {
   "cell_type": "code",
   "execution_count": 233,
   "metadata": {},
   "outputs": [
    {
     "name": "stdout",
     "output_type": "stream",
     "text": "c r a n e \nh a v e n \na v e r t \ns e r v e \ne n t e r \n\nl a t h e \na g a i n \np a i n t \ns i n g e \ne n t e r \n\n"
    }
   ],
   "source": [
    "print_sqs(unique_sqs[:2])"
   ]
  },
  {
   "cell_type": "code",
   "execution_count": 232,
   "metadata": {},
   "outputs": [],
   "source": [
    "def get_loc_from_index(i, n):\n",
    "    x = i % n\n",
    "    y = int(i / n)\n",
    "    return [x, y]\n",
    "\n",
    "def get_index_from_loc(loc, n):\n",
    "    x, y = loc\n",
    "    return y * n + x\n",
    "\n",
    "def get_possible_chars(sq, loc, char_tree):\n",
    "    x, y = loc\n",
    "    partial_word1 = sq[x, :y]\n",
    "    partial_word2 = sq[:x, y]\n",
    "\n",
    "    options1 = get_possible_chars_from_partial_word(partial_word1, char_tree)\n",
    "    options2 = get_possible_chars_from_partial_word(partial_word2, char_tree)\n",
    "    return  options1.intersection(options2)\n",
    "\n",
    "def get_possible_chars_from_partial_word(partial_word, char_tree):\n",
    "    t = copy.copy(char_tree)\n",
    "    for char in partial_word:\n",
    "        if char in t.keys():\n",
    "            t = t[char]\n",
    "        else:\n",
    "            t = {}\n",
    "    return set(t.keys())\n",
    "\n",
    "def get_char_tree(n):\n",
    "    char_tree = defaultdict(lambda: defaultdict())\n",
    "    for word in words:\n",
    "        if len(word) == n:\n",
    "            char_tree = add_word_to_tree(char_tree, word)\n",
    "    return char_tree\n",
    "\n",
    "\n",
    "class Square():\n",
    "    def __init__(self, sq):\n",
    "        self.sq = sq\n",
    "        self.symmetry_score = self.get_symmetry()\n",
    "    \n",
    "    def __eq__(self, other): \n",
    "        if np.all(self.sq == other.sq) or np.all(self.sq == other.sq.T): \n",
    "            return True\n",
    "        else: \n",
    "            return False\n",
    "    \n",
    "    def __ge__(self, other):\n",
    "        return (not __lt__(self, other) and not __eq__(self, other))\n",
    "    \n",
    "    def __lt__(self, other):\n",
    "        return np.mean(self.sq < other.sq) > 0.5\n",
    "    \n",
    "    def __hash__(self):\n",
    "        sq = self.sq if np.mean(self.sq > self.sq.T) > 0.5 else self.sq.T\n",
    "        return hash(sq.tostring())\n",
    "    \n",
    "    def __str__(self):\n",
    "        array_string = ''\n",
    "        for line in self.sq:\n",
    "            for char in line:\n",
    "                array_string += f'{char} '\n",
    "            array_string += f'\\n'\n",
    "        return array_string\n",
    "    \n",
    "    def get_symmetry(self):\n",
    "        return np.mean(self.sq == self.sq.T)\n",
    "\n",
    "def get_partial_squares(sq, i):\n",
    "    sq = copy.copy(sq)\n",
    "    n = sq.shape[0]\n",
    "    loc = get_loc_from_index(i, n)\n",
    "    x, y = loc\n",
    "    possible_chars = get_possible_chars(sq, loc, char_tree)\n",
    "\n",
    "    sqs = []\n",
    "\n",
    "    if len(possible_chars) == 0:\n",
    "        return []\n",
    "\n",
    "    for char in possible_chars:\n",
    "        sq[x, y] = char\n",
    "\n",
    "        if i < n**2 - 1:\n",
    "            sqs.extend(get_partial_squares(sq, i + 1))\n",
    "        else:\n",
    "            sqs.extend([Square(sq)])\n",
    "\n",
    "    return sqs\n",
    "\n",
    "def get_parallel_partial_squares(sq, i, done_list):\n",
    "    sq = copy.copy(sq)\n",
    "    n = sq.shape[0]\n",
    "    loc = get_loc_from_index(i, n)\n",
    "    x, y = loc\n",
    "    possible_chars = get_possible_chars(sq, loc, char_tree)\n",
    "\n",
    "    sqs = []\n",
    "\n",
    "    if len(possible_chars) == 0:\n",
    "        return []\n",
    "\n",
    "    for char in possible_chars:\n",
    "        sq[x, y] = char\n",
    "\n",
    "        sqs = get_partial_squares(sq, i + 1)\n",
    "        done_list.extend(sqs)\n",
    "\n",
    "\n",
    "def get_squares_parallel(n):\n",
    "    with Manager() as manager:\n",
    "\n",
    "        done_list = manager.list() \n",
    "\n",
    "        global char_tree\n",
    "        char_tree = get_char_tree(n)\n",
    "        \n",
    "        sq = np.chararray((n, n))\n",
    "        sq.fill('')\n",
    "        sq = sq.astype('<U1')\n",
    "\n",
    "        loc = get_loc_from_index(0, n)\n",
    "        x, y = loc\n",
    "\n",
    "        possible_chars = get_possible_chars(sq, loc, char_tree)\n",
    "\n",
    "        procs = []\n",
    "        _start = time.time()\n",
    "\n",
    "        for char in possible_chars:\n",
    "            sq = copy.copy(sq)\n",
    "            sq[x, y] = char\n",
    "            i = 1\n",
    "\n",
    "            # print(name)\n",
    "            proc = Process(target=get_parallel_partial_squares, args=(sq, i, done_list))\n",
    "            proc.daemon = True\n",
    "            procs.append(proc)\n",
    "            proc.start()\n",
    "            sleep(0.01)     \n",
    "\n",
    "        # complete the processes\n",
    "        for proc in procs:\n",
    "            proc.join()\n",
    "\n",
    "        print(\"Took {1} seconds\".format(count, \n",
    "            (time.time() - _start)))\n",
    "    \n",
    "        return list(done_list)\n",
    "\n",
    "\n",
    "def get_unique_sqs(sqs):\n",
    "    return list(set(sqs))\n",
    "\n",
    "def print_sqs(sqs):\n",
    "    for sq in sqs:\n",
    "        print(sq)"
   ]
  },
  {
   "cell_type": "code",
   "execution_count": 234,
   "metadata": {},
   "outputs": [
    {
     "name": "stdout",
     "output_type": "stream",
     "text": "Took 14.10971975326538 seconds\n573\n"
    }
   ],
   "source": [
    "x = get_squares_parallel(5)\n",
    "unique_sqs = get_unique_sqs(x)\n",
    "unique_sqs.sort(key=lambda x: x.symmetry_score, reverse=False)\n",
    "print(len(unique_sqs))"
   ]
  },
  {
   "cell_type": "code",
   "execution_count": 135,
   "metadata": {},
   "outputs": [],
   "source": [
    "def get_char_tree(n):\n",
    "    char_tree = defaultdict(lambda: defaultdict())\n",
    "    for word in words:\n",
    "        if len(word) == n:\n",
    "            char_tree = add_word_to_tree(char_tree, word)\n",
    "    return char_tree\n",
    "\n",
    "\n",
    "def get_squares(n, processes = 6):\n",
    "    with Manager() as manager:\n",
    "\n",
    "        global char_tree\n",
    "        char_tree = get_char_tree(n)\n",
    "        \n",
    "        sq = np.chararray((n, n)).astype('<U1')\n",
    "        sq.fill('')\n",
    "\n",
    "        work_queue = Queue()\n",
    "        done_list = manager.list() \n",
    "\n",
    "        work_queue.put((0, sq))\n",
    "\n",
    "\n",
    "        procs = []\n",
    "        _start = time.time()\n",
    "\n",
    "        for i in range(processes):\n",
    "            # print(name)\n",
    "            proc = Process(target=get_partial_squares, args=(work_queue, done_list))\n",
    "            proc.daemon = True\n",
    "            procs.append(proc)\n",
    "            proc.start()\n",
    "            sleep(0.01)     \n",
    "\n",
    "            \n",
    "        # complete the processes\n",
    "        for proc in procs:\n",
    "            proc.join()\n",
    "\n",
    "        print(\"Took {1} seconds\".format(count, \n",
    "            (time.time() - _start)))\n",
    "    \n",
    "        return list(done_list)\n",
    "\n",
    "\n",
    "def get_partial_squares(work_queue, done_list):\n",
    "\n",
    "    while not work_queue.empty():\n",
    "        i, sq = work_queue.get()\n",
    "\n",
    "        sq = copy.copy(sq)\n",
    "        n = sq.shape[0]\n",
    "        loc = get_loc_from_index(i, n)\n",
    "        x, y = loc\n",
    "        possible_chars = get_possible_chars(sq, loc, char_tree)\n",
    "\n",
    "        sqs = []\n",
    "\n",
    "        if len(possible_chars) == 0:\n",
    "            continue\n",
    "\n",
    "        for char in possible_chars:\n",
    "            sq[x, y] = char\n",
    "\n",
    "            if i < n**2 - 1:\n",
    "                work_queue.put((i + 1, sq))\n",
    "            else:\n",
    "                done_list.extend([Square(sq)])\n",
    "        \n",
    "        sleep(0.000001)\n"
   ]
  },
  {
   "cell_type": "code",
   "execution_count": 137,
   "metadata": {},
   "outputs": [
    {
     "ename": "KeyboardInterrupt",
     "evalue": "",
     "output_type": "error",
     "traceback": [
      "\u001b[0;31m---------------------------------------------------------------------------\u001b[0m",
      "\u001b[0;31mKeyboardInterrupt\u001b[0m                         Traceback (most recent call last)",
      "\u001b[0;32m<ipython-input-137-e7e354967976>\u001b[0m in \u001b[0;36m<module>\u001b[0;34m\u001b[0m\n\u001b[0;32m----> 1\u001b[0;31m \u001b[0msqs\u001b[0m \u001b[0;34m=\u001b[0m \u001b[0mget_squares\u001b[0m\u001b[0;34m(\u001b[0m\u001b[0;36m3\u001b[0m\u001b[0;34m)\u001b[0m\u001b[0;34m\u001b[0m\u001b[0;34m\u001b[0m\u001b[0m\n\u001b[0m",
      "\u001b[0;32m<ipython-input-135-6b629776cd88>\u001b[0m in \u001b[0;36mget_squares\u001b[0;34m(n, processes)\u001b[0m\n\u001b[1;32m     36\u001b[0m         \u001b[0;31m# complete the processes\u001b[0m\u001b[0;34m\u001b[0m\u001b[0;34m\u001b[0m\u001b[0;34m\u001b[0m\u001b[0m\n\u001b[1;32m     37\u001b[0m         \u001b[0;32mfor\u001b[0m \u001b[0mproc\u001b[0m \u001b[0;32min\u001b[0m \u001b[0mprocs\u001b[0m\u001b[0;34m:\u001b[0m\u001b[0;34m\u001b[0m\u001b[0;34m\u001b[0m\u001b[0m\n\u001b[0;32m---> 38\u001b[0;31m             \u001b[0mproc\u001b[0m\u001b[0;34m.\u001b[0m\u001b[0mjoin\u001b[0m\u001b[0;34m(\u001b[0m\u001b[0;34m)\u001b[0m\u001b[0;34m\u001b[0m\u001b[0;34m\u001b[0m\u001b[0m\n\u001b[0m\u001b[1;32m     39\u001b[0m \u001b[0;34m\u001b[0m\u001b[0m\n\u001b[1;32m     40\u001b[0m         print(\"Took {1} seconds\".format(count, \n",
      "\u001b[0;32m~/anaconda3/envs/py37/lib/python3.7/multiprocessing/process.py\u001b[0m in \u001b[0;36mjoin\u001b[0;34m(self, timeout)\u001b[0m\n\u001b[1;32m    138\u001b[0m         \u001b[0;32massert\u001b[0m \u001b[0mself\u001b[0m\u001b[0;34m.\u001b[0m\u001b[0m_parent_pid\u001b[0m \u001b[0;34m==\u001b[0m \u001b[0mos\u001b[0m\u001b[0;34m.\u001b[0m\u001b[0mgetpid\u001b[0m\u001b[0;34m(\u001b[0m\u001b[0;34m)\u001b[0m\u001b[0;34m,\u001b[0m \u001b[0;34m'can only join a child process'\u001b[0m\u001b[0;34m\u001b[0m\u001b[0;34m\u001b[0m\u001b[0m\n\u001b[1;32m    139\u001b[0m         \u001b[0;32massert\u001b[0m \u001b[0mself\u001b[0m\u001b[0;34m.\u001b[0m\u001b[0m_popen\u001b[0m \u001b[0;32mis\u001b[0m \u001b[0;32mnot\u001b[0m \u001b[0;32mNone\u001b[0m\u001b[0;34m,\u001b[0m \u001b[0;34m'can only join a started process'\u001b[0m\u001b[0;34m\u001b[0m\u001b[0;34m\u001b[0m\u001b[0m\n\u001b[0;32m--> 140\u001b[0;31m         \u001b[0mres\u001b[0m \u001b[0;34m=\u001b[0m \u001b[0mself\u001b[0m\u001b[0;34m.\u001b[0m\u001b[0m_popen\u001b[0m\u001b[0;34m.\u001b[0m\u001b[0mwait\u001b[0m\u001b[0;34m(\u001b[0m\u001b[0mtimeout\u001b[0m\u001b[0;34m)\u001b[0m\u001b[0;34m\u001b[0m\u001b[0;34m\u001b[0m\u001b[0m\n\u001b[0m\u001b[1;32m    141\u001b[0m         \u001b[0;32mif\u001b[0m \u001b[0mres\u001b[0m \u001b[0;32mis\u001b[0m \u001b[0;32mnot\u001b[0m \u001b[0;32mNone\u001b[0m\u001b[0;34m:\u001b[0m\u001b[0;34m\u001b[0m\u001b[0;34m\u001b[0m\u001b[0m\n\u001b[1;32m    142\u001b[0m             \u001b[0m_children\u001b[0m\u001b[0;34m.\u001b[0m\u001b[0mdiscard\u001b[0m\u001b[0;34m(\u001b[0m\u001b[0mself\u001b[0m\u001b[0;34m)\u001b[0m\u001b[0;34m\u001b[0m\u001b[0;34m\u001b[0m\u001b[0m\n",
      "\u001b[0;32m~/anaconda3/envs/py37/lib/python3.7/multiprocessing/popen_fork.py\u001b[0m in \u001b[0;36mwait\u001b[0;34m(self, timeout)\u001b[0m\n\u001b[1;32m     46\u001b[0m                     \u001b[0;32mreturn\u001b[0m \u001b[0;32mNone\u001b[0m\u001b[0;34m\u001b[0m\u001b[0;34m\u001b[0m\u001b[0m\n\u001b[1;32m     47\u001b[0m             \u001b[0;31m# This shouldn't block if wait() returned successfully.\u001b[0m\u001b[0;34m\u001b[0m\u001b[0;34m\u001b[0m\u001b[0;34m\u001b[0m\u001b[0m\n\u001b[0;32m---> 48\u001b[0;31m             \u001b[0;32mreturn\u001b[0m \u001b[0mself\u001b[0m\u001b[0;34m.\u001b[0m\u001b[0mpoll\u001b[0m\u001b[0;34m(\u001b[0m\u001b[0mos\u001b[0m\u001b[0;34m.\u001b[0m\u001b[0mWNOHANG\u001b[0m \u001b[0;32mif\u001b[0m \u001b[0mtimeout\u001b[0m \u001b[0;34m==\u001b[0m \u001b[0;36m0.0\u001b[0m \u001b[0;32melse\u001b[0m \u001b[0;36m0\u001b[0m\u001b[0;34m)\u001b[0m\u001b[0;34m\u001b[0m\u001b[0;34m\u001b[0m\u001b[0m\n\u001b[0m\u001b[1;32m     49\u001b[0m         \u001b[0;32mreturn\u001b[0m \u001b[0mself\u001b[0m\u001b[0;34m.\u001b[0m\u001b[0mreturncode\u001b[0m\u001b[0;34m\u001b[0m\u001b[0;34m\u001b[0m\u001b[0m\n\u001b[1;32m     50\u001b[0m \u001b[0;34m\u001b[0m\u001b[0m\n",
      "\u001b[0;32m~/anaconda3/envs/py37/lib/python3.7/multiprocessing/popen_fork.py\u001b[0m in \u001b[0;36mpoll\u001b[0;34m(self, flag)\u001b[0m\n\u001b[1;32m     26\u001b[0m         \u001b[0;32mif\u001b[0m \u001b[0mself\u001b[0m\u001b[0;34m.\u001b[0m\u001b[0mreturncode\u001b[0m \u001b[0;32mis\u001b[0m \u001b[0;32mNone\u001b[0m\u001b[0;34m:\u001b[0m\u001b[0;34m\u001b[0m\u001b[0;34m\u001b[0m\u001b[0m\n\u001b[1;32m     27\u001b[0m             \u001b[0;32mtry\u001b[0m\u001b[0;34m:\u001b[0m\u001b[0;34m\u001b[0m\u001b[0;34m\u001b[0m\u001b[0m\n\u001b[0;32m---> 28\u001b[0;31m                 \u001b[0mpid\u001b[0m\u001b[0;34m,\u001b[0m \u001b[0msts\u001b[0m \u001b[0;34m=\u001b[0m \u001b[0mos\u001b[0m\u001b[0;34m.\u001b[0m\u001b[0mwaitpid\u001b[0m\u001b[0;34m(\u001b[0m\u001b[0mself\u001b[0m\u001b[0;34m.\u001b[0m\u001b[0mpid\u001b[0m\u001b[0;34m,\u001b[0m \u001b[0mflag\u001b[0m\u001b[0;34m)\u001b[0m\u001b[0;34m\u001b[0m\u001b[0;34m\u001b[0m\u001b[0m\n\u001b[0m\u001b[1;32m     29\u001b[0m             \u001b[0;32mexcept\u001b[0m \u001b[0mOSError\u001b[0m \u001b[0;32mas\u001b[0m \u001b[0me\u001b[0m\u001b[0;34m:\u001b[0m\u001b[0;34m\u001b[0m\u001b[0;34m\u001b[0m\u001b[0m\n\u001b[1;32m     30\u001b[0m                 \u001b[0;31m# Child process not yet created. See #1731717\u001b[0m\u001b[0;34m\u001b[0m\u001b[0;34m\u001b[0m\u001b[0;34m\u001b[0m\u001b[0m\n",
      "\u001b[0;31mKeyboardInterrupt\u001b[0m: "
     ]
    }
   ],
   "source": [
    "sqs = get_squares(3)"
   ]
  },
  {
   "cell_type": "code",
   "execution_count": 123,
   "metadata": {},
   "outputs": [
    {
     "data": {
      "text/plain": "[<__main__.Square at 0x7f3da1680210>,\n <__main__.Square at 0x7f3da2d08310>,\n <__main__.Square at 0x7f3da16808d0>,\n <__main__.Square at 0x7f3da1680f90>,\n <__main__.Square at 0x7f3da1680dd0>,\n <__main__.Square at 0x7f3da1680a90>,\n <__main__.Square at 0x7f3da1680d10>,\n <__main__.Square at 0x7f3da16805d0>,\n <__main__.Square at 0x7f3da1680bd0>,\n <__main__.Square at 0x7f3da1680890>,\n <__main__.Square at 0x7f3da16801d0>,\n <__main__.Square at 0x7f3da16807d0>,\n <__main__.Square at 0x7f3da16800d0>,\n <__main__.Square at 0x7f3da2d08a90>,\n <__main__.Square at 0x7f3da1680d50>,\n <__main__.Square at 0x7f3da1680390>,\n <__main__.Square at 0x7f3da2d086d0>,\n <__main__.Square at 0x7f3da16804d0>,\n <__main__.Square at 0x7f3da1680710>,\n <__main__.Square at 0x7f3da1680cd0>,\n <__main__.Square at 0x7f3da1680990>,\n <__main__.Square at 0x7f3da318b190>,\n <__main__.Square at 0x7f3da318b210>,\n <__main__.Square at 0x7f3da318be10>,\n <__main__.Square at 0x7f3da318b810>,\n <__main__.Square at 0x7f3da318b8d0>,\n <__main__.Square at 0x7f3da318ba90>,\n <__main__.Square at 0x7f3da318b7d0>,\n <__main__.Square at 0x7f3da318bb90>,\n <__main__.Square at 0x7f3da318bcd0>,\n <__main__.Square at 0x7f3da318bbd0>,\n <__main__.Square at 0x7f3da318bad0>,\n <__main__.Square at 0x7f3da318bc90>,\n <__main__.Square at 0x7f3da318bfd0>,\n <__main__.Square at 0x7f3da318b890>,\n <__main__.Square at 0x7f3da318b3d0>,\n <__main__.Square at 0x7f3da318b090>,\n <__main__.Square at 0x7f3da318bf90>,\n <__main__.Square at 0x7f3da318b650>,\n <__main__.Square at 0x7f3da318b590>,\n <__main__.Square at 0x7f3da318b150>,\n <__main__.Square at 0x7f3da318bb10>,\n <__main__.Square at 0x7f3da1680ad0>,\n <__main__.Square at 0x7f3da318b350>,\n <__main__.Square at 0x7f3da318bb50>,\n <__main__.Square at 0x7f3da318b510>,\n <__main__.Square at 0x7f3da2007dd0>,\n <__main__.Square at 0x7f3da31dfad0>,\n <__main__.Square at 0x7f3da31dfcd0>,\n <__main__.Square at 0x7f3da31df550>,\n <__main__.Square at 0x7f3da31df450>,\n <__main__.Square at 0x7f3da31df2d0>]"
     },
     "execution_count": 123,
     "metadata": {},
     "output_type": "execute_result"
    }
   ],
   "source": [
    "sqs"
   ]
  },
  {
   "cell_type": "code",
   "execution_count": 124,
   "metadata": {},
   "outputs": [
    {
     "name": "stdout",
     "output_type": "stream",
     "text": "25\ni s \nn o \n\na s \nn o \n\na t \nn o \n\na t \ns o \n\ni t \ns o \n\ni n \ns o \n\ni s \nt o \n\na n \ns o \n\ni n \nt o \n\na n \nt o \n\na s \nt o \n\ni t \nn o \n\no n \nn o \n\ni n \nn o \n\ni t \nt o \n\nu s \ns o \n\nn o \no r \n\nt o \no r \n\nd o \no r \n\na s \ns o \n\ni s \ns o \n\na n \nn o \n\ng o \no r \n\ns o \no r \n\na t \nt o \n\n"
    }
   ],
   "source": [
    "unique_sqs = get_unique_sqs(x)\n",
    "print(len(unique_sqs))\n",
    "unique_sqs.sort(key=lambda x: x.symmetry_score, reverse=False)\n",
    "print_sqs(unique_sqs)"
   ]
  },
  {
   "cell_type": "code",
   "execution_count": 20,
   "metadata": {},
   "outputs": [
    {
     "name": "stdout",
     "output_type": "stream",
     "text": "Sending 10000 numbers to Queue() took 0.0828714370727539 seconds\nSending 100000 numbers to Queue() took 0.7374887466430664 seconds\n"
    }
   ],
   "source": [
    "from multiprocessing import Process, Queue, Manager\n",
    "import time\n",
    "import sys\n",
    "\n",
    "def reader_proc(queue):\n",
    "    ## Read from the queue; this will be spawned as a separate Process\n",
    "    while True:\n",
    "        msg = queue.get()         # Read from the queue and do nothing\n",
    "        if (msg == 'DONE'):\n",
    "            break\n",
    "\n",
    "def writer(count, queue):\n",
    "    ## Write to the queue\n",
    "    for ii in range(0, count):\n",
    "        queue.put(ii)             # Write 'count' numbers into the queue\n",
    "    queue.put('DONE')\n",
    "\n",
    "\n",
    "pqueue = Queue() # writer() writes to pqueue from _this_ process\n",
    "for count in [10**4, 10**5]:             \n",
    "    ### reader_proc() reads from pqueue as a separate process\n",
    "    reader_p = Process(target=reader_proc, args=((pqueue),))\n",
    "    reader_p.daemon = True\n",
    "    reader_p.start()        # Launch reader_proc() as a separate python process\n",
    "\n",
    "    _start = time.time()\n",
    "    writer(count, pqueue)    # Send a lot of stuff to reader()\n",
    "    reader_p.join()         # Wait for the reader to finish\n",
    "    print(\"Sending {0} numbers to Queue() took {1} seconds\".format(count, \n",
    "        (time.time() - _start)))"
   ]
  },
  {
   "cell_type": "code",
   "execution_count": 101,
   "metadata": {},
   "outputs": [],
   "source": [
    "char_tree = defaultdict(lambda: defaultdict())\n",
    "\n",
    "for word in words:\n",
    "    if len(word) == n:\n",
    "        char_tree = add_word_to_tree(char_tree, word)\n"
   ]
  },
  {
   "cell_type": "code",
   "execution_count": 102,
   "metadata": {},
   "outputs": [
    {
     "data": {
      "text/plain": "array([['t', 'w', 'f', 'd'],\n       ['h', 'c', 's', 'v'],\n       ['j', 'g', 'm', 'l'],\n       ['y', 'b', 'o', 'e']], dtype='<U1')"
     },
     "execution_count": 102,
     "metadata": {},
     "output_type": "execute_result"
    }
   ],
   "source": [
    "for i, char in enumerate(list(char_tree.keys())[:n**2]):\n",
    "    loc = get_loc_from_index(i, n)\n",
    "    x, y = loc\n",
    "    sq[x, y] = char\n",
    "sq"
   ]
  },
  {
   "cell_type": "code",
   "execution_count": 103,
   "metadata": {},
   "outputs": [
    {
     "data": {
      "text/plain": "array([['i', 't', 'e', 'm'],\n       ['t', 'i', 'm', 'e'],\n       ['e', 'm', 'i', 't'],\n       ['m', 'e', 't', 'a']], dtype='<U1')"
     },
     "execution_count": 103,
     "metadata": {},
     "output_type": "execute_result"
    }
   ],
   "source": [
    "x = [['i','t','e','m'],\n",
    "    ['t','i','m','e'],\n",
    "    ['e','m','i','t'],\n",
    "    ['m','e','t','a']]\n",
    "sq = np.array(x)\n",
    "sq"
   ]
  },
  {
   "cell_type": "code",
   "execution_count": 104,
   "metadata": {},
   "outputs": [
    {
     "ename": "TypeError",
     "evalue": "get_possible_chars() missing 1 required positional argument: 'char_tree'",
     "output_type": "error",
     "traceback": [
      "\u001b[0;31m---------------------------------------------------------------------------\u001b[0m",
      "\u001b[0;31mTypeError\u001b[0m                                 Traceback (most recent call last)",
      "\u001b[0;32m<ipython-input-104-16747e5fc09c>\u001b[0m in \u001b[0;36m<module>\u001b[0;34m\u001b[0m\n\u001b[1;32m      1\u001b[0m \u001b[0mloc\u001b[0m \u001b[0;34m=\u001b[0m \u001b[0;34m[\u001b[0m\u001b[0;36m2\u001b[0m\u001b[0;34m,\u001b[0m \u001b[0;36m1\u001b[0m\u001b[0;34m]\u001b[0m\u001b[0;34m\u001b[0m\u001b[0;34m\u001b[0m\u001b[0m\n\u001b[0;32m----> 2\u001b[0;31m \u001b[0mget_possible_chars\u001b[0m\u001b[0;34m(\u001b[0m\u001b[0msq\u001b[0m\u001b[0;34m,\u001b[0m \u001b[0mloc\u001b[0m\u001b[0;34m)\u001b[0m\u001b[0;34m\u001b[0m\u001b[0;34m\u001b[0m\u001b[0m\n\u001b[0m",
      "\u001b[0;31mTypeError\u001b[0m: get_possible_chars() missing 1 required positional argument: 'char_tree'"
     ]
    }
   ],
   "source": [
    "loc = [2, 1]\n",
    "get_possible_chars(sq, loc)"
   ]
  },
  {
   "cell_type": "code",
   "execution_count": 105,
   "metadata": {},
   "outputs": [
    {
     "name": "stdout",
     "output_type": "stream",
     "text": "m ['e'] ['t' 'i']\n"
    }
   ],
   "source": [
    "\n",
    "x, y = loc\n",
    "partial_word1 = sq[x, :y]\n",
    "partial_word2 = sq[:x, y]\n",
    "print(sq[x,y], partial_word1, partial_word2)"
   ]
  },
  {
   "cell_type": "code",
   "execution_count": 106,
   "metadata": {},
   "outputs": [],
   "source": [
    "\n"
   ]
  },
  {
   "cell_type": "code",
   "execution_count": 106,
   "metadata": {},
   "outputs": [
    {
     "data": {
      "text/plain": "in__.add_word_to_tree.<locals>.<lambda>()>,\n                                                                {}),\n                                                    'g': defaultdict(<function __main__.add_word_to_tree.<locals>.<lambda>()>,\n                                                                {}),\n                                                    'm': defaultdict(<function __main__.add_word_to_tree.<locals>.<lambda>()>,\n                                                                {})}),\n                                       'e': defaultdict(None,\n                                                   {'a': defaultdict(<function __main__.add_word_to_tree.<locals>.<lambda>()>,\n                                                                {})}),\n                                       'o': defaultdict(None,\n                                                   {'t': defaultdict(<function __main__.add_word_to_tree.<locals>.<lambda>()>,\n                                                                {}),\n                                                    'y': defaultdict(<function __main__.add_word_to_tree.<locals>.<lambda>()>,\n                                                                {}),\n                                                    'd': defaultdict(<function __main__.add_word_to_tree.<locals>.<lambda>()>,\n                                                                {})})}),\n                          'i': defaultdict(<function __main__.add_word_to_tree.<locals>.<lambda>()>,\n                                      {'c': defaultdict(None,\n                                                   {'k': defaultdict(<function __main__.add_word_to_tree.<locals>.<lambda>()>,\n                                                                {})}),\n                                       'n': defaultdict(None,\n                                                   {'k': defaultdict(<function __main__.add_word_to_tree.<locals>.<lambda>()>,\n                                                                {}),\n                                                    'e': defaultdict(<function __main__.add_word_to_tree.<locals>.<lambda>()>,\n                                                                {}),\n                                                    't': defaultdict(<function __main__.add_word_to_tree.<locals>.<lambda>()>,\n                                                                {}),\n                                                    'g': defaultdict(<function __main__.add_word_to_tree.<locals>.<lambda>()>,\n                                                                {})}),\n                                       't': defaultdict(None,\n                                                   {'y': defaultdict(<function __main__.add_word_to_tree.<locals>.<lambda>()>,\n                                                                {})}),\n                                       'p': defaultdict(None,\n                                                   {'e': defaultdict(<function __main__.add_word_to_tree.<locals>.<lambda>()>,\n                                                                {})}),\n                                       'l': defaultdict(None,\n                                                   {'e': defaultdict(<function __main__.add_word_to_tree.<locals>.<lambda>()>,\n                                                                {}),\n                                                    'l': defaultdict(<function __main__.add_word_to_tree.<locals>.<lambda>()>,\n                                                                {})}),\n                                       'k': defaultdict(None,\n                                                   {'e': defaultdict(<function __main__.add_word_to_tree.<locals>.<lambda>()>,\n                                                                {})}),\n                                       'e': defaultdict(None,\n                                                   {'r': defaultdict(<function __main__.add_word_to_tree.<locals>.<lambda>()>,\n                                                                {})})}),\n                          'o': defaultdict(<function __main__.add_word_to_tree.<locals>.<lambda>()>,\n                                      {'o': defaultdict(None,\n                                                   {'r': defaultdict(<function __main__.add_word_to_tree.<locals>.<lambda>()>,\n                                                                {}),\n                                                    'l': defaultdict(<function __main__.add_word_to_tree.<locals>.<lambda>()>,\n                                                                {})}),\n                                       'r': defaultdict(None,\n                                                   {'t': defaultdict(<function __main__.add_word_to_tree.<locals>.<lambda>()>,\n                                                                {}),\n                                                    'k': defaultdict(<function __main__.add_word_to_tree.<locals>.<lambda>()>,\n                                                                {}),\n                                                    'e': defaultdict(<function __main__.add_word_to_tree.<locals>.<lambda>()>,\n                                                                {})}),\n                                       's': defaultdict(None,\n                                                   {'t': defaultdict(<function __main__.add_word_to_tree.<locals>.<lambda>()>,\n                                                                {}),\n                                                    'e': defaultdict(<function __main__.add_word_to_tree.<locals>.<lambda>()>,\n                                                                {}),\n                                                    'h': defaultdict(<function __main__.add_word_to_tree.<locals>.<lambda>()>,\n                                                                {})}),\n                                       'e': defaultdict(None,\n                                                   {'m': defaultdict(<function __main__.add_word_to_tree.<locals>.<lambda>()>,\n                                                                {}),\n                                                    't': defaultdict(<function __main__.add_word_to_tree.<locals>.<lambda>()>,\n                                                                {})}),\n                                       'u': defaultdict(None,\n                                                   {'r': defaultdict(<function __main__.add_word_to_tree.<locals>.<lambda>()>,\n                                                                {}),\n                                                    't': defaultdict(<function __main__.add_word_to_tree.<locals>.<lambda>()>,\n                                                                {})}),\n                                       'n': defaultdict(None,\n                                                   {'d': defaultdict(<function __main__.add_word_to_tree.<locals>.<lambda>()>,\n                                                                {}),\n                                                    'y': defaultdict(<function __main__.add_word_to_tree.<locals>.<lambda>()>,\n                                                                {})}),\n                                       'l': defaultdict(None,\n                                                   {'l': defaultdict(<function __main__.add_word_to_tree.<locals>.<lambda>()>,\n                                                                {}),\n                                                    'e': defaultdict(<function __main__.add_word_to_tree.<locals>.<lambda>()>,\n                                                                {})}),\n                                       'p': defaultdict(None,\n                                                   {'s': defaultdict(<function __main__.add_word_to_tree.<locals>.<lambda>()>,\n                                                                {})}),\n                                       'k': defaultdict(None,\n                                                   {'e': defaultdict(<function __main__.add_word_to_tree.<locals>.<lambda>()>,\n                                                                {})}),\n                                       'm': defaultdict(None,\n                                                   {'p': defaultdict(<function __main__.add_word_to_tree.<locals>.<lambda>()>,\n                                                                {})})}),\n                          'u': defaultdict(<function __main__.add_word_to_tree.<locals>.<lambda>()>,\n                                      {'s': defaultdict(None,\n                                                   {'h': defaultdict(<function __main__.add_word_to_tree.<locals>.<lambda>()>,\n                                                                {})}),\n                                       'l': defaultdict(None,\n                                                   {'l': defaultdict(<function __main__.add_word_to_tree.<locals>.<lambda>()>,\n                                                                {}),\n                                                    'p': defaultdict(<function __main__.add_word_to_tree.<locals>.<lambda>()>,\n                                                                {})}),\n                                       'r': defaultdict(None,\n                                                   {'e': defaultdict(<function __main__.add_word_to_tree.<locals>.<lambda>()>,\n                                                                {}),\n                                                    'r': defaultdict(<function __main__.add_word_to_tree.<locals>.<lambda>()>,\n                                                                {})}),\n                                       'n': defaultdict(None,\n                                                   {'k': defaultdict(<function __main__.add_word_to_tree.<locals>.<lambda>()>,\n                                                                {})}),\n                                       'm': defaultdict(None,\n                                                   {'p': defaultdict(<function __main__.add_word_to_tree.<locals>.<lambda>()>,\n                                                                {})}),\n                                       'f': defaultdict(None,\n                                                   {'f': defaultdict(<function __main__.add_word_to_tree.<locals>.<lambda>()>,\n                                                                {})})}),\n                          'r': defaultdict(<function __main__.add_word_to_tree.<locals>.<lambda>()>,\n                                      {'a': defaultdict(None,\n                                                   {'y': defaultdict(<function __main__.add_word_to_tree.<locals>.<lambda>()>,\n                                                                {}),\n                                                    'm': defaultdict(<function __main__.add_word_to_tree.<locals>.<lambda>()>,\n                                                                {})}),\n                                       'o': defaultdict(None,\n                                                   {'m': defaultdict(<function __main__.add_word_to_tree.<locals>.<lambda>()>,\n                                                                {}),\n                                                    's': defaultdict(<function __main__.add_word_to_tree.<locals>.<lambda>()>,\n                                                                {}),\n                                                    'p': defaultdict(<function __main__.add_word_to_tree.<locals>.<lambda>()>,\n                                                                {}),\n                                                    'd': defaultdict(<function __main__.add_word_to_tree.<locals>.<lambda>()>,\n                                                                {})}),\n                                       'e': defaultdict(None,\n                                                   {'y': defaultdict(<function __main__.add_word_to_tree.<locals>.<lambda>()>,\n                                                                {})})}),\n                          'e': defaultdict(<function __main__.add_word_to_tree.<locals>.<lambda>()>,\n                                      {'a': defaultdict(None,\n                                                   {'k': defaultdict(<function __main__.add_word_to_tree.<locals>.<lambda>()>,\n                                                                {}),\n                                                    'r': defaultdict(<function __main__.add_word_to_tree.<locals>.<lambda>()>,\n                                                                {}),\n                                                    't': defaultdict(<function __main__.add_word_to_tree.<locals>.<lambda>()>,\n                                                                {}),\n                                                    'l': defaultdict(<function __main__.add_word_to_tree.<locals>.<lambda>()>,\n                                                                {})}),\n                                       'e': defaultdict(None,\n                                                   {'l': defaultdict(<function __main__.add_word_to_tree.<locals>.<lambda>()>,\n                                                                {}),\n                                                    'k': defaultdict(<function __main__.add_word_to_tree.<locals>.<lambda>()>,\n                                                                {}),\n                                                    'r': defaultdict(<function __main__.add_word_to_tree.<locals>.<lambda>()>,\n                                                                {}),\n                                                    'p': defaultdict(<function __main__.add_word_to_tree.<locals>.<lambda>()>,\n                                                                {})}),\n                                       's': defaultdict(None,\n                                                   {'t': defaultdict(<function __main__.add_word_to_tree.<locals>.<lambda>()>,\n                                                                {})}),\n                                       'r': defaultdict(None,\n                                                   {'k': defaultdict(<function __main__.add_word_to_tree.<locals>.<lambda>()>,\n                                                                {}),\n                                                    't': defaultdict(<function __main__.add_word_to_tree.<locals>.<lambda>()>,\n                                                                {})}),\n                                       'c': defaultdict(None,\n                                                   {'k': defaultdict(<function __main__.add_word_to_tree.<locals>.<lambda>()>,\n                                                                {})}),\n                                       'l': defaultdict(None,\n                                                   {'t': defaultdict(<function __main__.add_word_to_tree.<locals>.<lambda>()>,\n                                                                {})})})}),\n             'q': defaultdict(None,\n                         {'u': defaultdict(<function __main__.add_word_to_tree.<locals>.<lambda>()>,\n                                      {'i': defaultdict(None,\n                                                   {'t': defaultdict(<function __main__.add_word_to_tree.<locals>.<lambda>()>,\n                                                                {}),\n                                                    'z': defaultdict(<function __main__.add_word_to_tree.<locals>.<lambda>()>,\n                                                                {}),\n                                                    'd': defaultdict(<function __main__.add_word_to_tree.<locals>.<lambda>()>,\n                                                                {})}),\n                                       'a': defaultdict(None,\n                                                   {'y': defaultdict(<function __main__.add_word_to_tree.<locals>.<lambda>()>,\n                                                                {})})})}),\n             'u': defaultdict(None,\n                         {'p': defaultdict(<function __main__.add_word_to_tree.<locals>.<lambda>()>,\n                                      {'o': defaultdict(None,\n                                                   {'n': defaultdict(<function __main__.add_word_to_tree.<locals>.<lambda>()>,\n                                                                {})})}),\n                          'g': defaultdict(<function __main__.add_word_to_tree.<locals>.<lambda>()>,\n                                      {'l': defaultdict(None,\n                                                   {'y': defaultdict(<function __main__.add_word_to_tree.<locals>.<lambda>()>,\n                                                                {})})}),\n                          'n': defaultdict(<function __main__.add_word_to_tree.<locals>.<lambda>()>,\n                                      {'i': defaultdict(None,\n                                                   {'t': defaultdict(<function __main__.add_word_to_tree.<locals>.<lambda>()>,\n                                                                {})}),\n                                       'd': defaultdict(None,\n                                                   {'o': defaultdict(<function __main__.add_word_to_tree.<locals>.<lambda>()>,\n                                                                {})})}),\n                          's': defaultdict(<function __main__.add_word_to_tree.<locals>.<lambda>()>,\n                                      {'e': defaultdict(None,\n                                                   {'r': defaultdict(<function __main__.add_word_to_tree.<locals>.<lambda>()>,\n                                                                {}),\n                                                    'd': defaultdict(<function __main__.add_word_to_tree.<locals>.<lambda>()>,\n                                                                {})})}),\n                          'r': defaultdict(<function __main__.add_word_to_tree.<locals>.<lambda>()>,\n                                      {'g': defaultdict(None,\n                                                   {'e': defaultdict(<function __main__.add_word_to_tree.<locals>.<lambda>()>,\n                                                                {})})})}),\n             'z': defaultdict(None,\n                         {'e': defaultdict(<function __main__.add_word_to_tree.<locals>.<lambda>()>,\n                                      {'r': defaultdict(None,\n                                                   {'o': defaultdict(<function __main__.add_word_to_tree.<locals>.<lambda>()>,\n                                                                {})}),\n                                       'a': defaultdict(None,\n                                                   {'l': defaultdict(<function __main__.add_word_to_tree.<locals>.<lambda>()>,\n                                                                {})})}),\n                          'o': defaultdict(<function __main__.add_word_to_tree.<locals>.<lambda>()>,\n                                      {'n': defaultdict(None,\n                                                   {'e': defaultdict(<function __main__.add_word_to_tree.<locals>.<lambda>()>,\n                                                                {})}),\n                                       'o': defaultdict(None,\n                                                   {'m': defaultdict(<function __main__.add_word_to_tree.<locals>.<lambda>()>,\n                                                                {})})})})})"
     },
     "execution_count": 106,
     "metadata": {},
     "output_type": "execute_result"
    }
   ],
   "source": [
    "char_tree"
   ]
  },
  {
   "cell_type": "code",
   "execution_count": null,
   "metadata": {},
   "outputs": [],
   "source": []
  }
 ]
}
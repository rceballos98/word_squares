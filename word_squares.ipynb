{
 "nbformat": 4,
 "nbformat_minor": 2,
 "metadata": {
  "language_info": {
   "name": "python",
   "codemirror_mode": {
    "name": "ipython",
    "version": 3
   },
   "version": "3.7.0-final"
  },
  "orig_nbformat": 2,
  "file_extension": ".py",
  "mimetype": "text/x-python",
  "name": "python",
  "npconvert_exporter": "python",
  "pygments_lexer": "ipython3",
  "version": 3,
  "kernelspec": {
   "name": "python37164bit340bdf381ecb42c8b2a1cf63c6e1cd3e",
   "display_name": "Python 3.7.1 64-bit"
  }
 },
 "cells": [
  {
   "cell_type": "code",
   "execution_count": 117,
   "metadata": {},
   "outputs": [],
   "source": [
    "import numpy as np\n",
    "import pandas as pd\n",
    "from pathlib import Path\n",
    "from collections import defaultdict\n",
    "import copy"
   ]
  },
  {
   "cell_type": "code",
   "execution_count": 82,
   "metadata": {},
   "outputs": [
    {
     "name": "stdout",
     "output_type": "stream",
     "text": "9999 | ['you', 'i', 'to', 'the', 'and', 'that', 'of', 'me', 'in', 'this']\n"
    }
   ],
   "source": [
    "dict_path = '/Users/rodrigo.ceballos/Documents/repos/word_squares/top10k.txt'\n",
    "words = Path(dict_path).open('r').read().split('\\n')\n",
    "words = [word.lower() for word in words]\n",
    "print(f'{len(words)} | {words[:10]}')"
   ]
  },
  {
   "cell_type": "code",
   "execution_count": 56,
   "metadata": {},
   "outputs": [],
   "source": [
    "def add_word_to_tree(tree, word):\n",
    "    if len(word) > 0:\n",
    "        try:\n",
    "            sub_tree = tree[word[0]]\n",
    "        except:\n",
    "            sub_tree = defaultdict(lambda: defaultdict())\n",
    "        tree[word[0]] = add_word_to_tree(sub_tree, word[1:])\n",
    "        return tree\n",
    "    else:\n",
    "        return defaultdict(lambda: defaultdict())\n"
   ]
  },
  {
   "cell_type": "code",
   "execution_count": 83,
   "metadata": {},
   "outputs": [],
   "source": [
    "char_tree = defaultdict(lambda: defaultdict())\n",
    "\n",
    "for word in words:\n",
    "    char_tree = add_word_to_tree(char_tree, word)\n"
   ]
  },
  {
   "cell_type": "code",
   "execution_count": 85,
   "metadata": {},
   "outputs": [
    {
     "data": {
      "text/plain": "defaultdict(None,\n            {'s': defaultdict(<function __main__.add_word_to_tree.<locals>.<lambda>()>,\n                         {}),\n             'n': defaultdict(<function __main__.add_word_to_tree.<locals>.<lambda>()>,\n                         {'k': defaultdict(None,\n                                      {'i': defaultdict(<function __main__.add_word_to_tree.<locals>.<lambda>()>,\n                                                   {'n': defaultdict(None,\n                                                                {'g': defaultdict(<function __main__.add_word_to_tree.<locals>.<lambda>()>,\n                                                                             {})})})}),\n                          'g': defaultdict(None,\n                                      {'y': defaultdict(<function __main__.add_word_to_tree.<locals>.<lambda>()>,\n                                                   {})}),\n                          'n': defaultdict(None,\n                                      {'e': defaultdict(<function __main__.add_word_to_tree.<locals>.<lambda>()>,\n                                                   {'r': defaultdict(<function __main__.add_word_to_tree.<locals>.<lambda>()>,\n                                                                {})})})}),\n             'r': defaultdict(<function __main__.add_word_to_tree.<locals>.<lambda>()>,\n                         {'t': defaultdict(None,\n                                      {'y': defaultdict(<function __main__.add_word_to_tree.<locals>.<lambda>()>,\n                                                   {}),\n                                       'e': defaultdict(<function __main__.add_word_to_tree.<locals>.<lambda>()>,\n                                                   {'e': defaultdict(None,\n                                                                {'n': defaultdict(<function __main__.add_word_to_tree.<locals>.<lambda>()>,\n                                                                             {})})})}),\n                          'd': defaultdict(<function __main__.add_word_to_tree.<locals>.<lambda>()>,\n                                      {}),\n                          's': defaultdict(None,\n                                      {'t': defaultdict(<function __main__.add_word_to_tree.<locals>.<lambda>()>,\n                                                   {})})}),\n             'e': defaultdict(<function __main__.add_word_to_tree.<locals>.<lambda>()>,\n                         {'f': defaultdict(<function __main__.add_word_to_tree.<locals>.<lambda>()>,\n                                      {}),\n                          'v': defaultdict(None,\n                                      {'e': defaultdict(<function __main__.add_word_to_tree.<locals>.<lambda>()>,\n                                                   {})})}),\n             'c': defaultdict(<function __main__.add_word_to_tree.<locals>.<lambda>()>,\n                         {'k': defaultdict(<function __main__.add_word_to_tree.<locals>.<lambda>()>,\n                                      {})}),\n             'g': defaultdict(<function __main__.add_word_to_tree.<locals>.<lambda>()>,\n                         {'h': defaultdict(<function __main__.add_word_to_tree.<locals>.<lambda>()>,\n                                      {})}),\n             'm': defaultdict(<function __main__.add_word_to_tree.<locals>.<lambda>()>,\n                         {'b': defaultdict(None,\n                                      {'l': defaultdict(<function __main__.add_word_to_tree.<locals>.<lambda>()>,\n                                                   {'e': defaultdict(<function __main__.add_word_to_tree.<locals>.<lambda>()>,\n                                                                {})})})})})"
     },
     "execution_count": 85,
     "metadata": {},
     "output_type": "execute_result"
    }
   ],
   "source": [
    "char_tree['t']['h']['i']"
   ]
  },
  {
   "cell_type": "markdown",
   "metadata": {},
   "source": [
    "# Make Word Squares"
   ]
  },
  {
   "cell_type": "code",
   "execution_count": 415,
   "metadata": {},
   "outputs": [],
   "source": [
    "def get_loc_from_index(i, n):\n",
    "    x = i % n\n",
    "    y = int(i / n)\n",
    "    return [x, y]\n",
    "\n",
    "def get_index_from_loc(loc, n):\n",
    "    x, y = loc\n",
    "    return y * n + x\n",
    "\n",
    "def get_possible_chars(sq, loc, char_tree):\n",
    "    x, y = loc\n",
    "    partial_word1 = sq[x, :y]\n",
    "    partial_word2 = sq[:x, y]\n",
    "\n",
    "    options1 = get_possible_chars_from_partial_word(partial_word1, char_tree)\n",
    "    options2 = get_possible_chars_from_partial_word(partial_word2, char_tree)\n",
    "    return  options1.intersection(options2)\n",
    "\n",
    "def get_possible_chars_from_partial_word(partial_word, char_tree):\n",
    "    t = copy.copy(char_tree)\n",
    "    for char in partial_word:\n",
    "        if char in t.keys():\n",
    "            t = t[char]\n",
    "        else:\n",
    "            t = {}\n",
    "    return set(t.keys())\n",
    "\n",
    "def get_char_tree(n):\n",
    "    char_tree = defaultdict(lambda: defaultdict())\n",
    "    for word in words:\n",
    "        if len(word) == n:\n",
    "            char_tree = add_word_to_tree(char_tree, word)\n",
    "    return char_tree\n",
    "\n",
    "\n",
    "def get_squares(n):\n",
    "\n",
    "    char_tree = get_char_tree(n)\n",
    "    \n",
    "    sq = np.chararray((n, n)).astype('<U1')\n",
    "    sq.fill('')\n",
    "\n",
    "    return get_partial_squares(sq, 0, char_tree)\n",
    "\n",
    "class Square():\n",
    "    def __init__(self, sq):\n",
    "        self.sq = sq\n",
    "\n",
    "def get_partial_squares(sq, i, char_tree):\n",
    "    sq = copy.copy(sq)\n",
    "    n = sq.shape[0]\n",
    "    loc = get_loc_from_index(i, n)\n",
    "    x, y = loc\n",
    "    possible_chars = get_possible_chars(sq, loc, char_tree)\n",
    "\n",
    "    sqs = []\n",
    "\n",
    "    if len(possible_chars) == 0:\n",
    "        return []\n",
    "\n",
    "    for char in possible_chars:\n",
    "        sq[x, y] = char\n",
    "\n",
    "        if i < n**2 - 1:\n",
    "            sqs.extend(get_partial_squares(sq, i + 1, char_tree))\n",
    "        else:\n",
    "            sqs.extend([Square(sq)])\n",
    "\n",
    "    return sqs\n"
   ]
  },
  {
   "cell_type": "code",
   "execution_count": 416,
   "metadata": {},
   "outputs": [
    {
     "data": {
      "text/plain": "(4, 4)"
     },
     "execution_count": 416,
     "metadata": {},
     "output_type": "execute_result"
    }
   ],
   "source": [
    "sq.shape"
   ]
  },
  {
   "cell_type": "code",
   "execution_count": 417,
   "metadata": {},
   "outputs": [],
   "source": [
    "x = get_squares(3)"
   ]
  },
  {
   "cell_type": "code",
   "execution_count": 433,
   "metadata": {},
   "outputs": [
    {
     "data": {
      "text/plain": "chararray([['v', 'a', 'n'],\n           ['a', 'd', 'o'],\n           ['n', 'o', 't']], dtype='<U1')"
     },
     "execution_count": 433,
     "metadata": {},
     "output_type": "execute_result"
    }
   ],
   "source": [
    "x[10].sq"
   ]
  },
  {
   "cell_type": "code",
   "execution_count": 252,
   "metadata": {},
   "outputs": [
    {
     "data": {
      "text/plain": "chararray([['', '', '', ''],\n           ['', '', '', ''],\n           ['', '', '', ''],\n           ['', '', '', '']], dtype='<U1')"
     },
     "execution_count": 252,
     "metadata": {},
     "output_type": "execute_result"
    }
   ],
   "source": [
    "n = 4\n",
    "sq = np.chararray((n, n)).astype('<U1')\n",
    "sq.fill('')\n",
    "sq"
   ]
  },
  {
   "cell_type": "code",
   "execution_count": 253,
   "metadata": {},
   "outputs": [],
   "source": [
    "char_tree = defaultdict(lambda: defaultdict())\n",
    "\n",
    "for word in words:\n",
    "    if len(word) == n:\n",
    "        char_tree = add_word_to_tree(char_tree, word)\n"
   ]
  },
  {
   "cell_type": "code",
   "execution_count": 254,
   "metadata": {},
   "outputs": [
    {
     "data": {
      "text/plain": "chararray([['t', 'w', 'f', 'd'],\n           ['h', 'c', 's', 'v'],\n           ['j', 'g', 'm', 'l'],\n           ['y', 'b', 'o', 'e']], dtype='<U1')"
     },
     "execution_count": 254,
     "metadata": {},
     "output_type": "execute_result"
    }
   ],
   "source": [
    "for i, char in enumerate(list(char_tree.keys())[:n**2]):\n",
    "    loc = get_loc_from_index(i, n)\n",
    "    x, y = loc\n",
    "    sq[x, y] = char\n",
    "sq"
   ]
  },
  {
   "cell_type": "code",
   "execution_count": 255,
   "metadata": {},
   "outputs": [
    {
     "data": {
      "text/plain": "array([['i', 't', 'e', 'm'],\n       ['t', 'i', 'm', 'e'],\n       ['e', 'm', 'i', 't'],\n       ['m', 'e', 't', 'a']], dtype='<U1')"
     },
     "execution_count": 255,
     "metadata": {},
     "output_type": "execute_result"
    }
   ],
   "source": [
    "x = [['i','t','e','m'],\n",
    "    ['t','i','m','e'],\n",
    "    ['e','m','i','t'],\n",
    "    ['m','e','t','a']]\n",
    "sq = np.array(x)\n",
    "sq"
   ]
  },
  {
   "cell_type": "code",
   "execution_count": 267,
   "metadata": {},
   "outputs": [
    {
     "data": {
      "text/plain": "{'c', 'd', 'l', 'm', 'n', 'p'}"
     },
     "execution_count": 267,
     "metadata": {},
     "output_type": "execute_result"
    }
   ],
   "source": [
    "loc = [2, 1]\n",
    "get_possible_chars(sq, loc)"
   ]
  },
  {
   "cell_type": "code",
   "execution_count": 266,
   "metadata": {},
   "outputs": [
    {
     "name": "stdout",
     "output_type": "stream",
     "text": "t ['e' 'm' 'i'] ['m' 'e']\n"
    }
   ],
   "source": [
    "\n",
    "x, y = loc\n",
    "partial_word1 = sq[x, :y]\n",
    "partial_word2 = sq[:x, y]\n",
    "print(sq[x,y], partial_word1, partial_word2)"
   ]
  },
  {
   "cell_type": "code",
   "execution_count": 241,
   "metadata": {},
   "outputs": [
    {
     "data": {
      "text/plain": "{'t'}"
     },
     "execution_count": 241,
     "metadata": {},
     "output_type": "execute_result"
    }
   ],
   "source": [
    "\n"
   ]
  },
  {
   "cell_type": "code",
   "execution_count": 236,
   "metadata": {},
   "outputs": [
    {
     "data": {
      "text/plain": "in__.add_word_to_tree.<locals>.<lambda>()>,\n                                                                {}),\n                                                    'g': defaultdict(<function __main__.add_word_to_tree.<locals>.<lambda>()>,\n                                                                {}),\n                                                    'm': defaultdict(<function __main__.add_word_to_tree.<locals>.<lambda>()>,\n                                                                {})}),\n                                       'e': defaultdict(None,\n                                                   {'a': defaultdict(<function __main__.add_word_to_tree.<locals>.<lambda>()>,\n                                                                {})}),\n                                       'o': defaultdict(None,\n                                                   {'t': defaultdict(<function __main__.add_word_to_tree.<locals>.<lambda>()>,\n                                                                {}),\n                                                    'y': defaultdict(<function __main__.add_word_to_tree.<locals>.<lambda>()>,\n                                                                {}),\n                                                    'd': defaultdict(<function __main__.add_word_to_tree.<locals>.<lambda>()>,\n                                                                {})})}),\n                          'i': defaultdict(<function __main__.add_word_to_tree.<locals>.<lambda>()>,\n                                      {'c': defaultdict(None,\n                                                   {'k': defaultdict(<function __main__.add_word_to_tree.<locals>.<lambda>()>,\n                                                                {})}),\n                                       'n': defaultdict(None,\n                                                   {'k': defaultdict(<function __main__.add_word_to_tree.<locals>.<lambda>()>,\n                                                                {}),\n                                                    'e': defaultdict(<function __main__.add_word_to_tree.<locals>.<lambda>()>,\n                                                                {}),\n                                                    't': defaultdict(<function __main__.add_word_to_tree.<locals>.<lambda>()>,\n                                                                {}),\n                                                    'g': defaultdict(<function __main__.add_word_to_tree.<locals>.<lambda>()>,\n                                                                {})}),\n                                       't': defaultdict(None,\n                                                   {'y': defaultdict(<function __main__.add_word_to_tree.<locals>.<lambda>()>,\n                                                                {})}),\n                                       'p': defaultdict(None,\n                                                   {'e': defaultdict(<function __main__.add_word_to_tree.<locals>.<lambda>()>,\n                                                                {})}),\n                                       'l': defaultdict(None,\n                                                   {'e': defaultdict(<function __main__.add_word_to_tree.<locals>.<lambda>()>,\n                                                                {}),\n                                                    'l': defaultdict(<function __main__.add_word_to_tree.<locals>.<lambda>()>,\n                                                                {})}),\n                                       'k': defaultdict(None,\n                                                   {'e': defaultdict(<function __main__.add_word_to_tree.<locals>.<lambda>()>,\n                                                                {})}),\n                                       'e': defaultdict(None,\n                                                   {'r': defaultdict(<function __main__.add_word_to_tree.<locals>.<lambda>()>,\n                                                                {})})}),\n                          'o': defaultdict(<function __main__.add_word_to_tree.<locals>.<lambda>()>,\n                                      {'o': defaultdict(None,\n                                                   {'r': defaultdict(<function __main__.add_word_to_tree.<locals>.<lambda>()>,\n                                                                {}),\n                                                    'l': defaultdict(<function __main__.add_word_to_tree.<locals>.<lambda>()>,\n                                                                {})}),\n                                       'r': defaultdict(None,\n                                                   {'t': defaultdict(<function __main__.add_word_to_tree.<locals>.<lambda>()>,\n                                                                {}),\n                                                    'k': defaultdict(<function __main__.add_word_to_tree.<locals>.<lambda>()>,\n                                                                {}),\n                                                    'e': defaultdict(<function __main__.add_word_to_tree.<locals>.<lambda>()>,\n                                                                {})}),\n                                       's': defaultdict(None,\n                                                   {'t': defaultdict(<function __main__.add_word_to_tree.<locals>.<lambda>()>,\n                                                                {}),\n                                                    'e': defaultdict(<function __main__.add_word_to_tree.<locals>.<lambda>()>,\n                                                                {}),\n                                                    'h': defaultdict(<function __main__.add_word_to_tree.<locals>.<lambda>()>,\n                                                                {})}),\n                                       'e': defaultdict(None,\n                                                   {'m': defaultdict(<function __main__.add_word_to_tree.<locals>.<lambda>()>,\n                                                                {}),\n                                                    't': defaultdict(<function __main__.add_word_to_tree.<locals>.<lambda>()>,\n                                                                {})}),\n                                       'u': defaultdict(None,\n                                                   {'r': defaultdict(<function __main__.add_word_to_tree.<locals>.<lambda>()>,\n                                                                {}),\n                                                    't': defaultdict(<function __main__.add_word_to_tree.<locals>.<lambda>()>,\n                                                                {})}),\n                                       'n': defaultdict(None,\n                                                   {'d': defaultdict(<function __main__.add_word_to_tree.<locals>.<lambda>()>,\n                                                                {}),\n                                                    'y': defaultdict(<function __main__.add_word_to_tree.<locals>.<lambda>()>,\n                                                                {})}),\n                                       'l': defaultdict(None,\n                                                   {'l': defaultdict(<function __main__.add_word_to_tree.<locals>.<lambda>()>,\n                                                                {}),\n                                                    'e': defaultdict(<function __main__.add_word_to_tree.<locals>.<lambda>()>,\n                                                                {})}),\n                                       'p': defaultdict(None,\n                                                   {'s': defaultdict(<function __main__.add_word_to_tree.<locals>.<lambda>()>,\n                                                                {})}),\n                                       'k': defaultdict(None,\n                                                   {'e': defaultdict(<function __main__.add_word_to_tree.<locals>.<lambda>()>,\n                                                                {})}),\n                                       'm': defaultdict(None,\n                                                   {'p': defaultdict(<function __main__.add_word_to_tree.<locals>.<lambda>()>,\n                                                                {})})}),\n                          'u': defaultdict(<function __main__.add_word_to_tree.<locals>.<lambda>()>,\n                                      {'s': defaultdict(None,\n                                                   {'h': defaultdict(<function __main__.add_word_to_tree.<locals>.<lambda>()>,\n                                                                {})}),\n                                       'l': defaultdict(None,\n                                                   {'l': defaultdict(<function __main__.add_word_to_tree.<locals>.<lambda>()>,\n                                                                {}),\n                                                    'p': defaultdict(<function __main__.add_word_to_tree.<locals>.<lambda>()>,\n                                                                {})}),\n                                       'r': defaultdict(None,\n                                                   {'e': defaultdict(<function __main__.add_word_to_tree.<locals>.<lambda>()>,\n                                                                {}),\n                                                    'r': defaultdict(<function __main__.add_word_to_tree.<locals>.<lambda>()>,\n                                                                {})}),\n                                       'n': defaultdict(None,\n                                                   {'k': defaultdict(<function __main__.add_word_to_tree.<locals>.<lambda>()>,\n                                                                {})}),\n                                       'm': defaultdict(None,\n                                                   {'p': defaultdict(<function __main__.add_word_to_tree.<locals>.<lambda>()>,\n                                                                {})}),\n                                       'f': defaultdict(None,\n                                                   {'f': defaultdict(<function __main__.add_word_to_tree.<locals>.<lambda>()>,\n                                                                {})})}),\n                          'r': defaultdict(<function __main__.add_word_to_tree.<locals>.<lambda>()>,\n                                      {'a': defaultdict(None,\n                                                   {'y': defaultdict(<function __main__.add_word_to_tree.<locals>.<lambda>()>,\n                                                                {}),\n                                                    'm': defaultdict(<function __main__.add_word_to_tree.<locals>.<lambda>()>,\n                                                                {})}),\n                                       'o': defaultdict(None,\n                                                   {'m': defaultdict(<function __main__.add_word_to_tree.<locals>.<lambda>()>,\n                                                                {}),\n                                                    's': defaultdict(<function __main__.add_word_to_tree.<locals>.<lambda>()>,\n                                                                {}),\n                                                    'p': defaultdict(<function __main__.add_word_to_tree.<locals>.<lambda>()>,\n                                                                {}),\n                                                    'd': defaultdict(<function __main__.add_word_to_tree.<locals>.<lambda>()>,\n                                                                {})}),\n                                       'e': defaultdict(None,\n                                                   {'y': defaultdict(<function __main__.add_word_to_tree.<locals>.<lambda>()>,\n                                                                {})})}),\n                          'e': defaultdict(<function __main__.add_word_to_tree.<locals>.<lambda>()>,\n                                      {'a': defaultdict(None,\n                                                   {'k': defaultdict(<function __main__.add_word_to_tree.<locals>.<lambda>()>,\n                                                                {}),\n                                                    'r': defaultdict(<function __main__.add_word_to_tree.<locals>.<lambda>()>,\n                                                                {}),\n                                                    't': defaultdict(<function __main__.add_word_to_tree.<locals>.<lambda>()>,\n                                                                {}),\n                                                    'l': defaultdict(<function __main__.add_word_to_tree.<locals>.<lambda>()>,\n                                                                {})}),\n                                       'e': defaultdict(None,\n                                                   {'l': defaultdict(<function __main__.add_word_to_tree.<locals>.<lambda>()>,\n                                                                {}),\n                                                    'k': defaultdict(<function __main__.add_word_to_tree.<locals>.<lambda>()>,\n                                                                {}),\n                                                    'r': defaultdict(<function __main__.add_word_to_tree.<locals>.<lambda>()>,\n                                                                {}),\n                                                    'p': defaultdict(<function __main__.add_word_to_tree.<locals>.<lambda>()>,\n                                                                {})}),\n                                       's': defaultdict(None,\n                                                   {'t': defaultdict(<function __main__.add_word_to_tree.<locals>.<lambda>()>,\n                                                                {})}),\n                                       'r': defaultdict(None,\n                                                   {'k': defaultdict(<function __main__.add_word_to_tree.<locals>.<lambda>()>,\n                                                                {}),\n                                                    't': defaultdict(<function __main__.add_word_to_tree.<locals>.<lambda>()>,\n                                                                {})}),\n                                       'c': defaultdict(None,\n                                                   {'k': defaultdict(<function __main__.add_word_to_tree.<locals>.<lambda>()>,\n                                                                {})}),\n                                       'l': defaultdict(None,\n                                                   {'t': defaultdict(<function __main__.add_word_to_tree.<locals>.<lambda>()>,\n                                                                {})})})}),\n             'q': defaultdict(None,\n                         {'u': defaultdict(<function __main__.add_word_to_tree.<locals>.<lambda>()>,\n                                      {'i': defaultdict(None,\n                                                   {'t': defaultdict(<function __main__.add_word_to_tree.<locals>.<lambda>()>,\n                                                                {}),\n                                                    'z': defaultdict(<function __main__.add_word_to_tree.<locals>.<lambda>()>,\n                                                                {}),\n                                                    'd': defaultdict(<function __main__.add_word_to_tree.<locals>.<lambda>()>,\n                                                                {})}),\n                                       'a': defaultdict(None,\n                                                   {'y': defaultdict(<function __main__.add_word_to_tree.<locals>.<lambda>()>,\n                                                                {})})})}),\n             'u': defaultdict(None,\n                         {'p': defaultdict(<function __main__.add_word_to_tree.<locals>.<lambda>()>,\n                                      {'o': defaultdict(None,\n                                                   {'n': defaultdict(<function __main__.add_word_to_tree.<locals>.<lambda>()>,\n                                                                {})})}),\n                          'g': defaultdict(<function __main__.add_word_to_tree.<locals>.<lambda>()>,\n                                      {'l': defaultdict(None,\n                                                   {'y': defaultdict(<function __main__.add_word_to_tree.<locals>.<lambda>()>,\n                                                                {})})}),\n                          'n': defaultdict(<function __main__.add_word_to_tree.<locals>.<lambda>()>,\n                                      {'i': defaultdict(None,\n                                                   {'t': defaultdict(<function __main__.add_word_to_tree.<locals>.<lambda>()>,\n                                                                {})}),\n                                       'd': defaultdict(None,\n                                                   {'o': defaultdict(<function __main__.add_word_to_tree.<locals>.<lambda>()>,\n                                                                {})})}),\n                          's': defaultdict(<function __main__.add_word_to_tree.<locals>.<lambda>()>,\n                                      {'e': defaultdict(None,\n                                                   {'r': defaultdict(<function __main__.add_word_to_tree.<locals>.<lambda>()>,\n                                                                {}),\n                                                    'd': defaultdict(<function __main__.add_word_to_tree.<locals>.<lambda>()>,\n                                                                {})})}),\n                          'r': defaultdict(<function __main__.add_word_to_tree.<locals>.<lambda>()>,\n                                      {'g': defaultdict(None,\n                                                   {'e': defaultdict(<function __main__.add_word_to_tree.<locals>.<lambda>()>,\n                                                                {})})})}),\n             'z': defaultdict(None,\n                         {'e': defaultdict(<function __main__.add_word_to_tree.<locals>.<lambda>()>,\n                                      {'r': defaultdict(None,\n                                                   {'o': defaultdict(<function __main__.add_word_to_tree.<locals>.<lambda>()>,\n                                                                {})}),\n                                       'a': defaultdict(None,\n                                                   {'l': defaultdict(<function __main__.add_word_to_tree.<locals>.<lambda>()>,\n                                                                {})})}),\n                          'o': defaultdict(<function __main__.add_word_to_tree.<locals>.<lambda>()>,\n                                      {'n': defaultdict(None,\n                                                   {'e': defaultdict(<function __main__.add_word_to_tree.<locals>.<lambda>()>,\n                                                                {})}),\n                                       'o': defaultdict(None,\n                                                   {'m': defaultdict(<function __main__.add_word_to_tree.<locals>.<lambda>()>,\n                                                                {})})})})})"
     },
     "execution_count": 236,
     "metadata": {},
     "output_type": "execute_result"
    }
   ],
   "source": [
    "char_tree"
   ]
  }
 ]
}